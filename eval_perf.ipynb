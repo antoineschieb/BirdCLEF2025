{
 "cells": [
  {
   "cell_type": "code",
   "execution_count": null,
   "id": "87247a5b",
   "metadata": {},
   "outputs": [],
   "source": [
    "import sys\n",
    "import os\n",
    "if os.path.exists('/kaggle/input/'):\n",
    "    sys.path.append('/kaggle/input/bird-clef-utils')"
   ]
  },
  {
   "cell_type": "markdown",
   "id": "c4e7e007",
   "metadata": {},
   "source": [
    "# Dataset processing"
   ]
  },
  {
   "cell_type": "code",
   "execution_count": null,
   "id": "8030bb0b",
   "metadata": {},
   "outputs": [],
   "source": [
    "import pandas as pd\n",
    "\n",
    "from utils import contains_human_voice, load_all_training_chunks\n",
    "\n",
    "segment_length = 5  # seconds\n",
    "stride = 5 \n",
    "\n",
    "training_chunks = load_all_training_chunks()\n",
    "# delete chunks containing human voice\n",
    "training_chunks['contains_human_voice'] = training_chunks.apply(\n",
    "    lambda row: contains_human_voice(row['filename'], row['audio_start'], row['audio_start'] + segment_length),\n",
    "    axis=1\n",
    ")\n",
    "training_chunks = training_chunks[~training_chunks['contains_human_voice']]\n"
   ]
  },
  {
   "cell_type": "markdown",
   "id": "fddc5733",
   "metadata": {},
   "source": [
    "# define model"
   ]
  },
  {
   "cell_type": "code",
   "execution_count": null,
   "id": "ba676146",
   "metadata": {},
   "outputs": [],
   "source": [
    "import torch\n",
    "from utils import EffNetB0Classifier\n",
    "\n",
    "# Example usage\n",
    "model = EffNetB0Classifier(num_classes=206)\n",
    "\n",
    "# Load the model weights\n",
    "model.load_state_dict('', map_location=torch.device('cpu'), weights_only=True))\n",
    "model.eval()  # Set the model to evaluation mode"
   ]
  },
  {
   "cell_type": "code",
   "execution_count": null,
   "id": "5f58e062",
   "metadata": {},
   "outputs": [],
   "source": [
    "from utils import AudioDataset\n",
    "\n",
    "\n",
    "my_ds = AudioDataset(training_chunks)\n",
    "print(f\"dataset size: {len(my_ds)}\")"
   ]
  },
  {
   "cell_type": "code",
   "execution_count": null,
   "id": "13c7ee8d",
   "metadata": {},
   "outputs": [],
   "source": [
    "import torch\n",
    "import pandas as pd\n",
    "from tqdm import tqdm\n",
    "from torch.utils.data import DataLoader\n",
    "# Create a DataLoader for the dataset with batch size 32\n",
    "dataloader = DataLoader(my_ds, batch_size=32, shuffle=False)\n",
    "\n",
    "# Ensure the model is in evaluation mode\n",
    "model.eval()\n",
    "\n",
    "# Create a list to store predictions and corresponding labels\n",
    "predictions = []\n",
    "labels = []\n",
    "\n",
    "# Iterate through the DataLoader and make predictions\n",
    "with torch.no_grad():\n",
    "    for batch in tqdm(dataloader, desc=\"Processing dataset\"):\n",
    "        data, label = batch\n",
    "        # Make prediction\n",
    "        output = model(data)\n",
    "        predicted_classes = torch.argmax(output, dim=1).tolist()\n",
    "        \n",
    "        # Store the predictions and the true labels\n",
    "        predictions.extend(predicted_classes)\n",
    "        labels.extend(label.tolist())\n",
    "\n",
    "# Save predictions and labels to a DataFrame for analysis\n",
    "results_df = pd.DataFrame({\n",
    "    'True_Label': labels,\n",
    "    'Predicted_Label': predictions\n",
    "})"
   ]
  },
  {
   "cell_type": "code",
   "execution_count": null,
   "id": "0ebceb21",
   "metadata": {},
   "outputs": [],
   "source": [
    "from sklearn.metrics import classification_report\n",
    "\n",
    "c = classification_report(results_df['True_Label'], results_df['Predicted_Label'], output_dict=True)\n",
    "report_df = pd.DataFrame(c).transpose()\n",
    "report_df.to_csv('classification_report.csv')"
   ]
  }
 ],
 "metadata": {
  "kernelspec": {
   "display_name": "birdclef-2025-YT0uVT6V-py3.11",
   "language": "python",
   "name": "python3"
  },
  "language_info": {
   "codemirror_mode": {
    "name": "ipython",
    "version": 3
   },
   "file_extension": ".py",
   "mimetype": "text/x-python",
   "name": "python",
   "nbconvert_exporter": "python",
   "pygments_lexer": "ipython3",
   "version": "3.11.9"
  }
 },
 "nbformat": 4,
 "nbformat_minor": 5
}
