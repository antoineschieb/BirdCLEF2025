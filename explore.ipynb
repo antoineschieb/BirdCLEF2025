{
 "cells": [
  {
   "cell_type": "code",
   "execution_count": 1,
   "id": "53ed47ce",
   "metadata": {},
   "outputs": [],
   "source": [
    "import pandas as pd\n",
    "\n",
    "# Load the train.csv file\n",
    "train_df = pd.read_csv('training_chunks.csv')"
   ]
  },
  {
   "cell_type": "code",
   "execution_count": null,
   "id": "2da0d9b4",
   "metadata": {},
   "outputs": [
    {
     "ename": "",
     "evalue": "",
     "output_type": "error",
     "traceback": [
      "\u001b[1;31mnotebook controller is DISPOSED. \n",
      "\u001b[1;31mView Jupyter <a href='command:jupyter.viewOutput'>log</a> for further details."
     ]
    }
   ],
   "source": [
    "import matplotlib.pyplot as plt\n",
    "\n",
    "# Calculate the frequency of each latitude/longitude pair\n",
    "freq = train_df.groupby(['latitude', 'longitude']).size().reset_index(name='count')\n",
    "\n",
    "# Extract latitude, longitude, and frequency\n",
    "latitudes = freq['latitude']\n",
    "longitudes = freq['longitude']\n",
    "sizes = freq['count']//2  # Use the frequency as the size of the points\n",
    "\n",
    "# Plot the points on a 2D plane\n",
    "plt.figure(figsize=(10, 6))\n",
    "plt.scatter(longitudes, latitudes, s=sizes, alpha=0.5, c=sizes, cmap='viridis')\n",
    "plt.title('Latitude vs Longitude (Point Size by Frequency)')\n",
    "plt.xlabel('Longitude')\n",
    "plt.ylabel('Latitude')\n",
    "plt.colorbar(label='Frequency')\n",
    "plt.grid(True)\n",
    "plt.show()"
   ]
  },
  {
   "cell_type": "code",
   "execution_count": null,
   "id": "19e90b1a",
   "metadata": {},
   "outputs": [
    {
     "ename": "",
     "evalue": "",
     "output_type": "error",
     "traceback": [
      "\u001b[1;31mnotebook controller is DISPOSED. \n",
      "\u001b[1;31mView Jupyter <a href='command:jupyter.viewOutput'>log</a> for further details."
     ]
    }
   ],
   "source": [
    "# Plot the distribution of ratings\n",
    "plt.figure(figsize=(10, 6))\n",
    "train_df['rating'].hist(bins=20, alpha=0.7, color='blue')\n",
    "plt.title('Distribution of Ratings')\n",
    "plt.xlabel('Rating')\n",
    "plt.ylabel('Frequency')\n",
    "plt.grid(False)\n",
    "plt.show()"
   ]
  },
  {
   "cell_type": "code",
   "execution_count": null,
   "id": "8e29df7c",
   "metadata": {},
   "outputs": [
    {
     "ename": "",
     "evalue": "",
     "output_type": "error",
     "traceback": [
      "\u001b[1;31mnotebook controller is DISPOSED. \n",
      "\u001b[1;31mView Jupyter <a href='command:jupyter.viewOutput'>log</a> for further details."
     ]
    }
   ],
   "source": [
    "from utils import contains_human_voice, load_all_training_chunks, segment_length\n",
    "\n",
    "training_chunks = load_all_training_chunks()\n",
    "training_chunks['contains_human_voice'] = training_chunks.apply(\n",
    "    lambda row: contains_human_voice(row['filename'], row['audio_start'], row['audio_start'] + segment_length),\n",
    "    axis=1\n",
    ")\n",
    "training_chunks = training_chunks[~training_chunks['contains_human_voice']]"
   ]
  },
  {
   "cell_type": "code",
   "execution_count": null,
   "id": "d8b0b6db",
   "metadata": {},
   "outputs": [
    {
     "ename": "",
     "evalue": "",
     "output_type": "error",
     "traceback": [
      "\u001b[1;31mnotebook controller is DISPOSED. \n",
      "\u001b[1;31mView Jupyter <a href='command:jupyter.viewOutput'>log</a> for further details."
     ]
    }
   ],
   "source": [
    "training_chunks"
   ]
  },
  {
   "cell_type": "code",
   "execution_count": null,
   "id": "92caacf9",
   "metadata": {},
   "outputs": [
    {
     "ename": "",
     "evalue": "",
     "output_type": "error",
     "traceback": [
      "\u001b[1;31mnotebook controller is DISPOSED. \n",
      "\u001b[1;31mView Jupyter <a href='command:jupyter.viewOutput'>log</a> for further details."
     ]
    }
   ],
   "source": [
    "results_df = pd.read_csv('results_df.csv', index_col=0)\n",
    "results_df"
   ]
  },
  {
   "cell_type": "code",
   "execution_count": null,
   "id": "b9c24248",
   "metadata": {},
   "outputs": [
    {
     "ename": "",
     "evalue": "",
     "output_type": "error",
     "traceback": [
      "\u001b[1;31mnotebook controller is DISPOSED. \n",
      "\u001b[1;31mView Jupyter <a href='command:jupyter.viewOutput'>log</a> for further details."
     ]
    }
   ],
   "source": [
    "print(len(training_chunks))\n",
    "print(len(results_df))"
   ]
  },
  {
   "cell_type": "code",
   "execution_count": null,
   "id": "7bed09fb",
   "metadata": {},
   "outputs": [
    {
     "ename": "",
     "evalue": "",
     "output_type": "error",
     "traceback": [
      "\u001b[1;31mnotebook controller is DISPOSED. \n",
      "\u001b[1;31mView Jupyter <a href='command:jupyter.viewOutput'>log</a> for further details."
     ]
    }
   ],
   "source": [
    "training_chunks = training_chunks.reindex(results_df.index)\n",
    "training_chunks"
   ]
  },
  {
   "cell_type": "code",
   "execution_count": null,
   "id": "c0b789c0",
   "metadata": {},
   "outputs": [
    {
     "ename": "",
     "evalue": "",
     "output_type": "error",
     "traceback": [
      "\u001b[1;31mnotebook controller is DISPOSED. \n",
      "\u001b[1;31mView Jupyter <a href='command:jupyter.viewOutput'>log</a> for further details."
     ]
    }
   ],
   "source": [
    "training_chunks = pd.merge(training_chunks, results_df, left_index=True, right_index=True, how='inner')"
   ]
  }
 ],
 "metadata": {
  "kernelspec": {
   "display_name": "birdclef-2025-YT0uVT6V-py3.11",
   "language": "python",
   "name": "python3"
  },
  "language_info": {
   "codemirror_mode": {
    "name": "ipython",
    "version": 3
   },
   "file_extension": ".py",
   "mimetype": "text/x-python",
   "name": "python",
   "nbconvert_exporter": "python",
   "pygments_lexer": "ipython3",
   "version": "3.11.9"
  }
 },
 "nbformat": 4,
 "nbformat_minor": 5
}
