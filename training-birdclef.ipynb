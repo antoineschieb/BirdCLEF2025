{
 "cells": [
  {
   "cell_type": "code",
   "execution_count": null,
   "id": "23762da8",
   "metadata": {},
   "outputs": [],
   "source": [
    "import sys\n",
    "import os\n",
    "if os.path.exists('/kaggle/input/'):\n",
    "    sys.path.append('/kaggle/input/bird-clef-utils')\n",
    "\n",
    "import torch\n",
    "torch.manual_seed(42)  # For reproducibility\n",
    "\n",
    "from utils import ROOT, DURATIONS_FILE, LABEL_MAP_FILE, VOICE_SEGMENTS_FILE, MODEL_OUTPUT_PATH"
   ]
  },
  {
   "cell_type": "markdown",
   "id": "c8b37140",
   "metadata": {},
   "source": [
    "# Dataset processing"
   ]
  },
  {
   "cell_type": "code",
   "execution_count": null,
   "id": "18a2e554",
   "metadata": {
    "execution": {
     "iopub.execute_input": "2025-04-30T17:39:47.950098Z",
     "iopub.status.busy": "2025-04-30T17:39:47.949820Z",
     "iopub.status.idle": "2025-04-30T17:41:22.988140Z",
     "shell.execute_reply": "2025-04-30T17:41:22.987259Z"
    },
    "papermill": {
     "duration": 95.042464,
     "end_time": "2025-04-30T17:41:22.989798",
     "exception": false,
     "start_time": "2025-04-30T17:39:47.947334",
     "status": "completed"
    },
    "tags": []
   },
   "outputs": [],
   "source": [
    "from utils import contains_human_voice, load_all_training_chunks, segment_length\n",
    "\n",
    "training_chunks = load_all_training_chunks()\n",
    "training_chunks['contains_human_voice'] = training_chunks.apply(\n",
    "    lambda row: contains_human_voice(row['filename'], row['audio_start'], row['audio_start'] + segment_length),\n",
    "    axis=1\n",
    ")\n",
    "training_chunks = training_chunks[~training_chunks['contains_human_voice']]\n"
   ]
  },
  {
   "cell_type": "markdown",
   "id": "8c4566d4",
   "metadata": {
    "papermill": {
     "duration": 0.00204,
     "end_time": "2025-04-30T17:41:23.022751",
     "exception": false,
     "start_time": "2025-04-30T17:41:23.020711",
     "status": "completed"
    },
    "tags": []
   },
   "source": [
    "# define dataset & model & split data"
   ]
  },
  {
   "cell_type": "code",
   "execution_count": null,
   "id": "c87ef3fa",
   "metadata": {
    "execution": {
     "iopub.execute_input": "2025-04-30T17:41:23.028242Z",
     "iopub.status.busy": "2025-04-30T17:41:23.027990Z",
     "iopub.status.idle": "2025-04-30T17:41:32.474910Z",
     "shell.execute_reply": "2025-04-30T17:41:32.473951Z"
    },
    "papermill": {
     "duration": 9.451242,
     "end_time": "2025-04-30T17:41:32.476166",
     "exception": false,
     "start_time": "2025-04-30T17:41:23.024924",
     "status": "completed"
    },
    "tags": []
   },
   "outputs": [],
   "source": [
    "from utils import AudioDataset, EffNetB0Classifier\n",
    "\n",
    "my_ds = AudioDataset(training_chunks[:10000])\n",
    "model = EffNetB0Classifier(num_classes=206)"
   ]
  },
  {
   "cell_type": "code",
   "execution_count": null,
   "id": "378a695b",
   "metadata": {
    "execution": {
     "iopub.execute_input": "2025-04-30T17:41:32.482136Z",
     "iopub.status.busy": "2025-04-30T17:41:32.481780Z",
     "iopub.status.idle": "2025-04-30T17:41:32.508891Z",
     "shell.execute_reply": "2025-04-30T17:41:32.508203Z"
    },
    "papermill": {
     "duration": 0.031355,
     "end_time": "2025-04-30T17:41:32.510079",
     "exception": false,
     "start_time": "2025-04-30T17:41:32.478724",
     "status": "completed"
    },
    "tags": []
   },
   "outputs": [],
   "source": [
    "from torch.utils.data import random_split\n",
    "\n",
    "# Calculate lengths for train and validation splits\n",
    "total_length = len(my_ds)\n",
    "train_length = int(0.10 * total_length)\n",
    "val_length = int(0.01 * total_length)\n",
    "test_length = total_length - train_length - val_length\n",
    "\n",
    "# Perform the split\n",
    "train_ds, val_ds, _ = random_split(my_ds, [train_length, val_length, test_length])\n",
    "\n",
    "print(f\"Train dataset size: {len(train_ds)}\")\n",
    "print(f\"Validation dataset size: {len(val_ds)}\")"
   ]
  },
  {
   "cell_type": "markdown",
   "id": "39336f98",
   "metadata": {
    "papermill": {
     "duration": 0.002089,
     "end_time": "2025-04-30T17:41:32.514529",
     "exception": false,
     "start_time": "2025-04-30T17:41:32.512440",
     "status": "completed"
    },
    "tags": []
   },
   "source": [
    "# Train/Val"
   ]
  },
  {
   "cell_type": "code",
   "execution_count": null,
   "id": "01d3ccc1",
   "metadata": {
    "execution": {
     "iopub.execute_input": "2025-04-30T17:41:32.520149Z",
     "iopub.status.busy": "2025-04-30T17:41:32.519906Z",
     "iopub.status.idle": "2025-04-30T19:08:54.518723Z",
     "shell.execute_reply": "2025-04-30T19:08:54.517889Z"
    },
    "papermill": {
     "duration": 5242.003426,
     "end_time": "2025-04-30T19:08:54.520138",
     "exception": false,
     "start_time": "2025-04-30T17:41:32.516712",
     "status": "completed"
    },
    "tags": []
   },
   "outputs": [],
   "source": [
    "from tqdm import tqdm\n",
    "from torch.utils.data import DataLoader\n",
    "import torch\n",
    "from torch import nn\n",
    "\n",
    "import torch.optim as optim\n",
    "\n",
    "# Define DataLoader\n",
    "batch_size = 32\n",
    "train_loader = DataLoader(train_ds, batch_size=batch_size, shuffle=True)\n",
    "val_loader = DataLoader(val_ds, batch_size=batch_size, shuffle=False)\n",
    "\n",
    "# Define loss function and optimizer\n",
    "criterion = nn.BCEWithLogitsLoss()\n",
    "optimizer = optim.Adam(model.parameters(), lr=0.001)\n",
    "\n",
    "# Training loop\n",
    "num_epochs = 2\n",
    "device = torch.device(\"cuda\" if torch.cuda.is_available() else \"cpu\")\n",
    "model.to(device)\n",
    "\n",
    "for epoch in range(num_epochs):\n",
    "    # Training phase\n",
    "    model.train()\n",
    "    running_loss = 0.0\n",
    "    for i, (inputs, labels) in enumerate(train_loader):\n",
    "        inputs, labels = inputs.to(device), labels.to(device)\n",
    "\n",
    "        # Zero the parameter gradients\n",
    "        optimizer.zero_grad()\n",
    "\n",
    "        # Forward pass\n",
    "        outputs = model(inputs)\n",
    "        loss = criterion(outputs, labels.float())  # Ensure labels are float for BCEWithLogitsLoss\n",
    "\n",
    "        # Backward pass and optimization\n",
    "        loss.backward()\n",
    "        optimizer.step()\n",
    "\n",
    "        running_loss += loss.item()\n",
    "\n",
    "    print(f\"Epoch {epoch+1}/{num_epochs}, Training Loss: {running_loss/len(train_loader)}\")\n",
    "\n",
    "    # Validation phase\n",
    "    model.eval()\n",
    "    val_loss = 0.0\n",
    "    correct = 0\n",
    "    total = 0\n",
    "    with torch.no_grad():\n",
    "        for inputs, labels in tqdm(val_loader):\n",
    "            inputs, labels = inputs.to(device), labels.to(device)\n",
    "\n",
    "            # Forward pass\n",
    "            outputs = model(inputs)\n",
    "            loss = criterion(outputs, labels.float())  # Ensure labels are float for BCEWithLogitsLoss\n",
    "\n",
    "            val_loss += loss.item()\n",
    "\n",
    "            # Calculate accuracy\n",
    "            predicted = (torch.sigmoid(outputs) > 0.5).int()\n",
    "            total += labels.size(0) * labels.size(1)  # Total number of elements\n",
    "            correct += (predicted == labels).sum().item()\n",
    "\n",
    "    val_loss /= len(val_loader)\n",
    "    val_accuracy = correct / total\n",
    "    print(f\"Epoch {epoch+1}/{num_epochs}, Validation Loss: {val_loss}, Validation Accuracy: {val_accuracy}\")\n"
   ]
  },
  {
   "cell_type": "code",
   "execution_count": null,
   "id": "85c66e43",
   "metadata": {
    "execution": {
     "iopub.execute_input": "2025-04-30T19:08:55.063656Z",
     "iopub.status.busy": "2025-04-30T19:08:55.063224Z",
     "iopub.status.idle": "2025-04-30T19:08:55.119908Z",
     "shell.execute_reply": "2025-04-30T19:08:55.119342Z"
    },
    "papermill": {
     "duration": 0.330034,
     "end_time": "2025-04-30T19:08:55.121189",
     "exception": false,
     "start_time": "2025-04-30T19:08:54.791155",
     "status": "completed"
    },
    "tags": []
   },
   "outputs": [],
   "source": [
    "torch.save(model.state_dict(), MODEL_OUTPUT_PATH)"
   ]
  }
 ],
 "metadata": {
  "kaggle": {
   "accelerator": "nvidiaTeslaT4",
   "dataSources": [
    {
     "databundleVersionId": 11361821,
     "sourceId": 91844,
     "sourceType": "competition"
    },
    {
     "datasetId": 7305593,
     "sourceId": 11647876,
     "sourceType": "datasetVersion"
    }
   ],
   "dockerImageVersionId": 31011,
   "isGpuEnabled": true,
   "isInternetEnabled": true,
   "language": "python",
   "sourceType": "notebook"
  },
  "kernelspec": {
   "display_name": "birdclef-2025-YT0uVT6V-py3.11",
   "language": "python",
   "name": "python3"
  },
  "language_info": {
   "codemirror_mode": {
    "name": "ipython",
    "version": 3
   },
   "file_extension": ".py",
   "mimetype": "text/x-python",
   "name": "python",
   "nbconvert_exporter": "python",
   "pygments_lexer": "ipython3",
   "version": "3.11.9"
  },
  "papermill": {
   "default_parameters": {},
   "duration": 5354.991574,
   "end_time": "2025-04-30T19:08:58.435601",
   "environment_variables": {},
   "exception": null,
   "input_path": "__notebook__.ipynb",
   "output_path": "__notebook__.ipynb",
   "parameters": {},
   "start_time": "2025-04-30T17:39:43.444027",
   "version": "2.6.0"
  }
 },
 "nbformat": 4,
 "nbformat_minor": 5
}
